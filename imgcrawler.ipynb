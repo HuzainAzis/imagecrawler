{
  "nbformat": 4,
  "nbformat_minor": 0,
  "metadata": {
    "colab": {
      "name": "Untitled0.ipynb",
      "provenance": [],
      "collapsed_sections": []
    },
    "kernelspec": {
      "name": "python3",
      "display_name": "Python 3"
    }
  },
  "cells": [
    {
      "cell_type": "code",
      "metadata": {
        "id": "kJgv_KO5-QBZ",
        "colab_type": "code",
        "colab": {
          "base_uri": "https://localhost:8080/",
          "height": 124
        },
        "outputId": "e3f4ea4a-7377-403b-cbc1-f66949d33514"
      },
      "source": [
        "from google.colab import drive\n",
        "drive.mount('/content/gdrive')"
      ],
      "execution_count": 2,
      "outputs": [
        {
          "output_type": "stream",
          "text": [
            "Go to this URL in a browser: https://accounts.google.com/o/oauth2/auth?client_id=947318989803-6bn6qk8qdgf4n4g3pfee6491hc0brc4i.apps.googleusercontent.com&redirect_uri=urn%3aietf%3awg%3aoauth%3a2.0%3aoob&response_type=code&scope=email%20https%3a%2f%2fwww.googleapis.com%2fauth%2fdocs.test%20https%3a%2f%2fwww.googleapis.com%2fauth%2fdrive%20https%3a%2f%2fwww.googleapis.com%2fauth%2fdrive.photos.readonly%20https%3a%2f%2fwww.googleapis.com%2fauth%2fpeopleapi.readonly\n",
            "\n",
            "Enter your authorization code:\n",
            "··········\n",
            "Mounted at /content/gdrive\n"
          ],
          "name": "stdout"
        }
      ]
    },
    {
      "cell_type": "code",
      "metadata": {
        "id": "NzEdKa6s8WkZ",
        "colab_type": "code",
        "colab": {}
      },
      "source": [
        "#import library\n",
        "import pandas as pd\n",
        "import urllib.request\n",
        "\n",
        "#------------------------------\n",
        "def url_to_jpg(i,url,filepath):\n",
        "  '''\n",
        "    args:\n",
        "      -- i : number of images\n",
        "      -- url : a url address of a given images\n",
        "      -- filepath : where to save the final images\n",
        "  '''\n",
        "  filename = 'image-{}.jpg'.format(i)\n",
        "  fullpath = '{}{}'.format(filepath,filename)\n",
        "  urllib.request.urlretrieve(url,fullpath)\n",
        "\n",
        "  print('{} saved.'.format(filename))\n",
        "\n",
        "  return None\n",
        "\n",
        "\n",
        "#set constant\n",
        "filename = 'kbh-crawl.csv'\n",
        "file_path = '/content/gdrive/My Drive/dataset/citra/goatsheap/' \n",
        "\n",
        "#read list of urls as pandas datafram\n",
        "urls = pd.readcsv(filename)\n",
        "\n",
        "#select image to directory by iterating througt the list\n",
        "for i, urls in enumerate(urls.values):\n",
        "  url_to_jpg(i,url[0],file_path)\n",
        "\n"
      ],
      "execution_count": 0,
      "outputs": []
    }
  ]
}