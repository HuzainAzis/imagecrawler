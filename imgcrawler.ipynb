{
  "nbformat": 4,
  "nbformat_minor": 0,
  "metadata": {
    "colab": {
      "name": "Untitled0.ipynb",
      "provenance": [],
      "collapsed_sections": []
    },
    "kernelspec": {
      "name": "python3",
      "display_name": "Python 3"
    }
  },
  "cells": [
    {
      "cell_type": "code",
      "metadata": {
        "id": "kJgv_KO5-QBZ",
        "colab_type": "code",
        "outputId": "54c3215f-b7d2-4723-8411-1bdfafda7b8b",
        "colab": {
          "base_uri": "https://localhost:8080/",
          "height": 118
        }
      },
      "source": [
        "from google.colab import drive\n",
        "drive.mount('/content/gdrive')"
      ],
      "execution_count": 1,
      "outputs": [
        {
          "output_type": "stream",
          "text": [
            "Go to this URL in a browser: https://accounts.google.com/o/oauth2/auth?client_id=947318989803-6bn6qk8qdgf4n4g3pfee6491hc0brc4i.apps.googleusercontent.com&redirect_uri=urn%3aietf%3awg%3aoauth%3a2.0%3aoob&response_type=code&scope=email%20https%3a%2f%2fwww.googleapis.com%2fauth%2fdocs.test%20https%3a%2f%2fwww.googleapis.com%2fauth%2fdrive%20https%3a%2f%2fwww.googleapis.com%2fauth%2fdrive.photos.readonly%20https%3a%2f%2fwww.googleapis.com%2fauth%2fpeopleapi.readonly\n",
            "\n",
            "Enter your authorization code:\n",
            "··········\n",
            "Mounted at /content/gdrive\n"
          ],
          "name": "stdout"
        }
      ]
    },
    {
      "cell_type": "code",
      "metadata": {
        "id": "vNXSCVsUAPWD",
        "colab_type": "code",
        "colab": {
          "base_uri": "https://localhost:8080/",
          "height": 1000
        },
        "outputId": "c709df90-0578-4535-9e28-6741505da6d2"
      },
      "source": [
        "import requests \n",
        "from bs4 import BeautifulSoup \n",
        "import urllib.request\n",
        "import random \n",
        "\n",
        "url = \"https://www.creativeshrimp.com/top-30-artworks-of-beeple.html\"\n",
        "\n",
        "source_code = requests.get(url)\n",
        "\n",
        "plain_text = source_code.text\n",
        "\n",
        "soup = BeautifulSoup(plain_text)\n",
        "\n",
        "for link in soup.find_all(\"a\",{\"class\":\"lightbox\"}):\n",
        "    href = link.get('href')\n",
        "    print(href)\n",
        "    \n",
        "    img_name = random.randrange(1,500)\n",
        "    \n",
        "    full_name = str(img_name) + \".jpg\"\n",
        "    \n",
        "    urllib.request.urlretrieve(href, full_name)\n",
        "    \n",
        "    print(\"loop break\")"
      ],
      "execution_count": 4,
      "outputs": [
        {
          "output_type": "stream",
          "text": [
            "https://www.creativeshrimp.com/wp-content/uploads/2015/11/beeple_thumbnail_01_1.jpg\n",
            "loop break\n",
            "https://www.creativeshrimp.com/wp-content/uploads/2015/11/SPORTFUCK.jpg\n",
            "loop break\n",
            "https://www.creativeshrimp.com/wp-content/uploads/2015/11/MCD-2087.jpg\n",
            "loop break\n",
            "https://www.creativeshrimp.com/wp-content/uploads/2015/11/burttn-coper-e1447256280215.jpg\n",
            "loop break\n",
            "https://www.creativeshrimp.com/wp-content/uploads/2015/11/ACRYLIC-DISPERSION.jpg\n",
            "loop break\n",
            "https://www.creativeshrimp.com/wp-content/uploads/2015/11/DEM-CUBES-e1447256293476.jpg\n",
            "loop break\n",
            "https://www.creativeshrimp.com/wp-content/uploads/2015/11/BAF.1981.jpg\n",
            "loop break\n",
            "https://www.creativeshrimp.com/wp-content/uploads/2015/11/EIGHT-YEARS.jpg\n",
            "loop break\n",
            "https://www.creativeshrimp.com/wp-content/uploads/2015/11/ELEVEN.jpg\n",
            "loop break\n",
            "https://www.creativeshrimp.com/wp-content/uploads/2015/11/FLOOR-100.jpg\n",
            "loop break\n",
            "https://www.creativeshrimp.com/wp-content/uploads/2015/11/GOD-FIVE.jpg\n",
            "loop break\n",
            "https://www.creativeshrimp.com/wp-content/uploads/2015/11/heaven-and-hell.jpg\n",
            "loop break\n",
            "https://www.creativeshrimp.com/wp-content/uploads/2015/11/metallurgy.jpg\n",
            "loop break\n",
            "https://www.creativeshrimp.com/wp-content/uploads/2015/11/NUCLEAR-FAMILY.jpg\n",
            "loop break\n",
            "https://www.creativeshrimp.com/wp-content/uploads/2015/11/NUMBER-TWO.jpg\n",
            "loop break\n",
            "https://www.creativeshrimp.com/wp-content/uploads/2015/11/OB.TANK_.jpg\n",
            "loop break\n",
            "https://www.creativeshrimp.com/wp-content/uploads/2015/11/ONE-FOOT.jpg\n",
            "loop break\n",
            "https://www.creativeshrimp.com/wp-content/uploads/2015/11/ONE-MILLION.jpg\n",
            "loop break\n",
            "https://www.creativeshrimp.com/wp-content/uploads/2015/11/recore..jpg\n",
            "loop break\n",
            "https://www.creativeshrimp.com/wp-content/uploads/2015/11/soup-f.jpg\n",
            "loop break\n",
            "https://www.creativeshrimp.com/wp-content/uploads/2015/11/SUPERBUG.jpg\n",
            "loop break\n",
            "https://www.creativeshrimp.com/wp-content/uploads/2015/11/SWEET-TOOTH.jpg\n",
            "loop break\n",
            "https://www.creativeshrimp.com/wp-content/uploads/2015/11/SYSTEMIC-ABERRATION.jpg\n",
            "loop break\n",
            "https://www.creativeshrimp.com/wp-content/uploads/2015/11/T.VARIATIONS.jpg\n",
            "loop break\n",
            "https://www.creativeshrimp.com/wp-content/uploads/2015/11/TEXTRIOUS.jpg\n",
            "loop break\n",
            "https://www.creativeshrimp.com/wp-content/uploads/2015/11/TUNGSTEN.jpg\n",
            "loop break\n",
            "https://www.creativeshrimp.com/wp-content/uploads/2015/11/U1.COMBINER.jpg\n",
            "loop break\n",
            "https://www.creativeshrimp.com/wp-content/uploads/2015/11/VHC.01.jpg\n",
            "loop break\n",
            "https://www.creativeshrimp.com/wp-content/uploads/2015/11/WINTERMIX.jpg\n",
            "loop break\n",
            "https://www.creativeshrimp.com/wp-content/uploads/2015/11/YT.SUN-CITY08.jpg\n",
            "loop break\n",
            "https://www.creativeshrimp.com/wp-content/uploads/2015/11/DAY-3000.jpg\n",
            "loop break\n"
          ],
          "name": "stdout"
        }
      ]
    }
  ]
}