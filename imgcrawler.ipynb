{
  "nbformat": 4,
  "nbformat_minor": 0,
  "metadata": {
    "colab": {
      "name": "Untitled0.ipynb",
      "provenance": [],
      "collapsed_sections": []
    },
    "kernelspec": {
      "name": "python3",
      "display_name": "Python 3"
    }
  },
  "cells": [
    {
      "cell_type": "code",
      "metadata": {
        "id": "kJgv_KO5-QBZ",
        "colab_type": "code",
        "outputId": "54c3215f-b7d2-4723-8411-1bdfafda7b8b",
        "colab": {
          "base_uri": "https://localhost:8080/",
          "height": 118
        }
      },
      "source": [
        "from google.colab import drive\n",
        "drive.mount('/content/gdrive')"
      ],
      "execution_count": 0,
      "outputs": [
        {
          "output_type": "stream",
          "text": [
            "Go to this URL in a browser: https://accounts.google.com/o/oauth2/auth?client_id=947318989803-6bn6qk8qdgf4n4g3pfee6491hc0brc4i.apps.googleusercontent.com&redirect_uri=urn%3aietf%3awg%3aoauth%3a2.0%3aoob&response_type=code&scope=email%20https%3a%2f%2fwww.googleapis.com%2fauth%2fdocs.test%20https%3a%2f%2fwww.googleapis.com%2fauth%2fdrive%20https%3a%2f%2fwww.googleapis.com%2fauth%2fdrive.photos.readonly%20https%3a%2f%2fwww.googleapis.com%2fauth%2fpeopleapi.readonly\n",
            "\n",
            "Enter your authorization code:\n",
            "··········\n",
            "Mounted at /content/gdrive\n"
          ],
          "name": "stdout"
        }
      ]
    },
    {
      "cell_type": "code",
      "metadata": {
        "id": "vNXSCVsUAPWD",
        "colab_type": "code",
        "colab": {}
      },
      "source": [
        "import requests \n",
        "from bs4 import BeautifulSoup \n",
        "import urllib.request\n",
        "import random \n",
        "\n",
        "url = \"https://id.pinterest.com/pin/594475219547845216/\"\n",
        "\n",
        "source_code = requests.get(url)\n",
        "\n",
        "plain_text = source_code.text\n",
        "\n",
        "soup = BeautifulSoup(plain_text)\n",
        "\n",
        "for link in soup.find_all(\"a\",{\"class\":\"lightbox\"}):\n",
        "    href = link.get('href')\n",
        "    print(href)\n",
        "    \n",
        "    img_name = random.randrange(1,500)\n",
        "    \n",
        "    full_name = str(img_name) + \".jpg\"\n",
        "    \n",
        "    urllib.request.urlretrieve(href, full_name)\n",
        "    \n",
        "    print(\"loop break\")"
      ],
      "execution_count": 0,
      "outputs": []
    }
  ]
}